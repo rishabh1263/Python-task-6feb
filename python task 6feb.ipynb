{
 "cells": [
  {
   "cell_type": "code",
   "execution_count": 42,
   "id": "41d463a6",
   "metadata": {},
   "outputs": [
    {
     "name": "stdout",
     "output_type": "stream",
     "text": [
      "236156799339716935680\n"
     ]
    }
   ],
   "source": [
    "def product_of_numbers(lst):\n",
    "    flat_lst = []\n",
    "    for i in lst:\n",
    "        if type(i) == list or type(i) == tuple or type(i) == set:\n",
    "            flat_lst.extend(i)\n",
    "        elif type(i) == dict:\n",
    "            for k, v in i.items():\n",
    "                if type(k) == int or type(k) == float:\n",
    "                    flat_lst.append(k)\n",
    "                if type(v) == int or type(v) == float:\n",
    "                    flat_lst.append(v)\n",
    "        elif type(i) == int or type(i) == float:\n",
    "            flat_lst.append(i)\n",
    "    \n",
    "    product = 1\n",
    "    for i in flat_lst:\n",
    "        if type(i) == int or type(i) == float:\n",
    "            product  = product*i\n",
    "    \n",
    "    return product\n",
    "\n",
    "flat_lst = [1,2,3,12, [44,55,66, True], False, (34,56,78,89,34), {1,2,3,3,2,1}, {1:34, \"key2\": [55, 67, 78, 89], 4: (45, 22, 61, 34)}, [56, 'data science'], 'Machine Learning']\n",
    "\n",
    "print(product_of_numbers(flat_lst))# Output: 154584249284480"
   ]
  },
  {
   "cell_type": "code",
   "execution_count": null,
   "id": "be613d1f",
   "metadata": {},
   "outputs": [],
   "source": []
  }
 ],
 "metadata": {
  "kernelspec": {
   "display_name": "Python 3 (ipykernel)",
   "language": "python",
   "name": "python3"
  },
  "language_info": {
   "codemirror_mode": {
    "name": "ipython",
    "version": 3
   },
   "file_extension": ".py",
   "mimetype": "text/x-python",
   "name": "python",
   "nbconvert_exporter": "python",
   "pygments_lexer": "ipython3",
   "version": "3.9.13"
  }
 },
 "nbformat": 4,
 "nbformat_minor": 5
}
